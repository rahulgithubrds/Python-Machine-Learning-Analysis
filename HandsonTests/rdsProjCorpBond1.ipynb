{
 "cells": [
  {
   "cell_type": "markdown",
   "metadata": {},
   "source": [
    "## Group 6 DBDA Bond Liquidity Prediction and it’s analysis over time series"
   ]
  },
  {
   "cell_type": "code",
   "execution_count": 17,
   "metadata": {},
   "outputs": [],
   "source": [
    "import pandas as pd\n",
    "import numpy as np\n",
    "import matplotlib.pyplot as plt\n",
    "\n",
    "import seaborn as sns\n",
    "sns.set('notebook')\n",
    "import datetime\n",
    "import csv\n",
    "\n",
    "%matplotlib inline\n",
    "import warnings\n",
    "warnings.filterwarnings('ignore')"
   ]
  },
  {
   "cell_type": "markdown",
   "metadata": {},
   "source": [
    "* Install PyMongo Package"
   ]
  },
  {
   "cell_type": "code",
   "execution_count": 5,
   "metadata": {},
   "outputs": [],
   "source": [
    "# !pip install pymongo"
   ]
  },
  {
   "cell_type": "markdown",
   "metadata": {},
   "source": [
    "* Import Data From Mongo"
   ]
  },
  {
   "cell_type": "code",
   "execution_count": 18,
   "metadata": {},
   "outputs": [],
   "source": [
    "import pymongo\n",
    "\n",
    "from pymongo import MongoClient\n",
    "client = MongoClient()\n",
    "db = client.project\n",
    "collection_dataset = db.dataset\n",
    "collection_ML_Bond_metadata=db.ML_Bond_metadata\n",
    "collection_avgvol=db.avgvol\n",
    "\n",
    "data = pd.DataFrame(collection_dataset.find())\n",
    "df = pd.DataFrame(collection_ML_Bond_metadata.find())"
   ]
  },
  {
   "cell_type": "code",
   "execution_count": 19,
   "metadata": {},
   "outputs": [],
   "source": [
    "del data['_id']\n",
    "del df['_id']"
   ]
  },
  {
   "cell_type": "code",
   "execution_count": 20,
   "metadata": {},
   "outputs": [
    {
     "data": {
      "text/html": [
       "<div>\n",
       "<style scoped>\n",
       "    .dataframe tbody tr th:only-of-type {\n",
       "        vertical-align: middle;\n",
       "    }\n",
       "\n",
       "    .dataframe tbody tr th {\n",
       "        vertical-align: top;\n",
       "    }\n",
       "\n",
       "    .dataframe thead th {\n",
       "        text-align: right;\n",
       "    }\n",
       "</style>\n",
       "<table border=\"1\" class=\"dataframe\">\n",
       "  <thead>\n",
       "    <tr style=\"text-align: right;\">\n",
       "      <th></th>\n",
       "      <th>isin</th>\n",
       "      <th>time</th>\n",
       "      <th>price</th>\n",
       "      <th>side</th>\n",
       "      <th>volume</th>\n",
       "      <th>timeofday</th>\n",
       "      <th>date</th>\n",
       "    </tr>\n",
       "  </thead>\n",
       "  <tbody>\n",
       "    <tr>\n",
       "      <th>0</th>\n",
       "      <td>isin10033</td>\n",
       "      <td>Mon 16May16 02:51:27.000 pm</td>\n",
       "      <td>117.36361835280748</td>\n",
       "      <td>S</td>\n",
       "      <td>730000</td>\n",
       "      <td>Afternoon</td>\n",
       "      <td>16May2016</td>\n",
       "    </tr>\n",
       "    <tr>\n",
       "      <th>1</th>\n",
       "      <td>isin10033</td>\n",
       "      <td>Mon 16May16 03:45:52.000 pm</td>\n",
       "      <td>115.71532940722403</td>\n",
       "      <td>B</td>\n",
       "      <td>730000</td>\n",
       "      <td>Afternoon</td>\n",
       "      <td>16May2016</td>\n",
       "    </tr>\n",
       "    <tr>\n",
       "      <th>2</th>\n",
       "      <td>isin10033</td>\n",
       "      <td>Wed  6Apr16 08:24:07.000 am</td>\n",
       "      <td>115.29645038674539</td>\n",
       "      <td>B</td>\n",
       "      <td>5000</td>\n",
       "      <td>Morning</td>\n",
       "      <td>6Apr2016</td>\n",
       "    </tr>\n",
       "    <tr>\n",
       "      <th>3</th>\n",
       "      <td>isin10033</td>\n",
       "      <td>Wed  6Apr16 08:24:07.000 am</td>\n",
       "      <td>115.29645038674539</td>\n",
       "      <td>B</td>\n",
       "      <td>5000</td>\n",
       "      <td>Morning</td>\n",
       "      <td>6Apr2016</td>\n",
       "    </tr>\n",
       "    <tr>\n",
       "      <th>4</th>\n",
       "      <td>isin10033</td>\n",
       "      <td>Wed  6Apr16 08:25:00.000 am</td>\n",
       "      <td>115.55824977454455</td>\n",
       "      <td>S</td>\n",
       "      <td>5000</td>\n",
       "      <td>Morning</td>\n",
       "      <td>6Apr2016</td>\n",
       "    </tr>\n",
       "  </tbody>\n",
       "</table>\n",
       "</div>"
      ],
      "text/plain": [
       "        isin                         time               price side  volume  \\\n",
       "0  isin10033  Mon 16May16 02:51:27.000 pm  117.36361835280748    S  730000   \n",
       "1  isin10033  Mon 16May16 03:45:52.000 pm  115.71532940722403    B  730000   \n",
       "2  isin10033  Wed  6Apr16 08:24:07.000 am  115.29645038674539    B    5000   \n",
       "3  isin10033  Wed  6Apr16 08:24:07.000 am  115.29645038674539    B    5000   \n",
       "4  isin10033  Wed  6Apr16 08:25:00.000 am  115.55824977454455    S    5000   \n",
       "\n",
       "   timeofday       date  \n",
       "0  Afternoon  16May2016  \n",
       "1  Afternoon  16May2016  \n",
       "2    Morning   6Apr2016  \n",
       "3    Morning   6Apr2016  \n",
       "4    Morning   6Apr2016  "
      ]
     },
     "execution_count": 20,
     "metadata": {},
     "output_type": "execute_result"
    }
   ],
   "source": [
    "data.head()"
   ]
  },
  {
   "cell_type": "markdown",
   "metadata": {},
   "source": [
    "* Data Cleaning"
   ]
  },
  {
   "cell_type": "code",
   "execution_count": 23,
   "metadata": {},
   "outputs": [],
   "source": [
    "data[\"price\"] = data.price.astype('float64')\n",
    "data[\"volume\"] = data.volume.astype('int64')\n",
    "# data.info()"
   ]
  },
  {
   "cell_type": "code",
   "execution_count": 24,
   "metadata": {},
   "outputs": [],
   "source": [
    "type(df['couponFrequency'])\n",
    "df['couponFrequency']=pd.to_numeric(df['couponFrequency'], errors='coerce').astype('float64')"
   ]
  },
  {
   "cell_type": "code",
   "execution_count": 25,
   "metadata": {},
   "outputs": [],
   "source": [
    "df[\"coupon\"] = df.coupon.astype('float64')\n",
    "df[\"amtIssued\"] = df.amtIssued.astype('int64')\n",
    "df[\"amtOutstanding\"] = df.amtOutstanding.astype('int64')"
   ]
  },
  {
   "cell_type": "code",
   "execution_count": 26,
   "metadata": {},
   "outputs": [
    {
     "data": {
      "text/html": [
       "<div>\n",
       "<style scoped>\n",
       "    .dataframe tbody tr th:only-of-type {\n",
       "        vertical-align: middle;\n",
       "    }\n",
       "\n",
       "    .dataframe tbody tr th {\n",
       "        vertical-align: top;\n",
       "    }\n",
       "\n",
       "    .dataframe thead th {\n",
       "        text-align: right;\n",
       "    }\n",
       "</style>\n",
       "<table border=\"1\" class=\"dataframe\">\n",
       "  <thead>\n",
       "    <tr style=\"text-align: right;\">\n",
       "      <th></th>\n",
       "      <th>isin</th>\n",
       "      <th>issuer</th>\n",
       "      <th>issue date</th>\n",
       "      <th>Market</th>\n",
       "      <th>amtIssued</th>\n",
       "      <th>amtOutstanding</th>\n",
       "      <th>collateralType</th>\n",
       "      <th>coupon</th>\n",
       "      <th>couponFrequency</th>\n",
       "      <th>couponType</th>\n",
       "      <th>...</th>\n",
       "      <th>maturityType</th>\n",
       "      <th>securityType</th>\n",
       "      <th>paymentRank</th>\n",
       "      <th>144aFlag</th>\n",
       "      <th>ratingAgency1Rating</th>\n",
       "      <th>ratingAgency1Watch</th>\n",
       "      <th>ratingAgency1EffectiveDate</th>\n",
       "      <th>ratingAgency2Rating</th>\n",
       "      <th>ratingAgency2Watch</th>\n",
       "      <th>ratingAgency2EffectiveDate</th>\n",
       "    </tr>\n",
       "  </thead>\n",
       "  <tbody>\n",
       "    <tr>\n",
       "      <th>0</th>\n",
       "      <td>isin0</td>\n",
       "      <td>issuer490</td>\n",
       "      <td>8Dec2011</td>\n",
       "      <td>Market2</td>\n",
       "      <td>183260000</td>\n",
       "      <td>183260000</td>\n",
       "      <td>collateralType19</td>\n",
       "      <td>10.000</td>\n",
       "      <td>2.0</td>\n",
       "      <td>couponType1</td>\n",
       "      <td>...</td>\n",
       "      <td>maturityType5</td>\n",
       "      <td>securityType3</td>\n",
       "      <td>paymentRank3</td>\n",
       "      <td>flag0</td>\n",
       "      <td>rating0</td>\n",
       "      <td>watch0</td>\n",
       "      <td>NA</td>\n",
       "      <td>rating0</td>\n",
       "      <td>watch0</td>\n",
       "      <td>NA</td>\n",
       "    </tr>\n",
       "    <tr>\n",
       "      <th>1</th>\n",
       "      <td>isin1</td>\n",
       "      <td>issuer1193</td>\n",
       "      <td>10-Sep-10</td>\n",
       "      <td>Market2</td>\n",
       "      <td>261800000</td>\n",
       "      <td>198970000</td>\n",
       "      <td>collateralType26</td>\n",
       "      <td>5.500</td>\n",
       "      <td>2.0</td>\n",
       "      <td>couponType1</td>\n",
       "      <td>...</td>\n",
       "      <td>maturityType10</td>\n",
       "      <td>securityType5</td>\n",
       "      <td>paymentRank8</td>\n",
       "      <td>flag0</td>\n",
       "      <td>rating0</td>\n",
       "      <td>watch0</td>\n",
       "      <td>NA</td>\n",
       "      <td>rating0</td>\n",
       "      <td>watch0</td>\n",
       "      <td>NA</td>\n",
       "    </tr>\n",
       "    <tr>\n",
       "      <th>2</th>\n",
       "      <td>isin2</td>\n",
       "      <td>issuer2943</td>\n",
       "      <td>14-Nov-14</td>\n",
       "      <td>Market2</td>\n",
       "      <td>78540000</td>\n",
       "      <td>78540000</td>\n",
       "      <td>collateralType28</td>\n",
       "      <td>5.750</td>\n",
       "      <td>2.0</td>\n",
       "      <td>couponType1</td>\n",
       "      <td>...</td>\n",
       "      <td>maturityType10</td>\n",
       "      <td>securityType5</td>\n",
       "      <td>paymentRank9</td>\n",
       "      <td>flag1</td>\n",
       "      <td>rating0</td>\n",
       "      <td>watch0</td>\n",
       "      <td>NA</td>\n",
       "      <td>rating0</td>\n",
       "      <td>watch0</td>\n",
       "      <td>NA</td>\n",
       "    </tr>\n",
       "    <tr>\n",
       "      <th>3</th>\n",
       "      <td>isin3</td>\n",
       "      <td>issuer3707</td>\n",
       "      <td>4Mar2013</td>\n",
       "      <td>Market1</td>\n",
       "      <td>1570800000</td>\n",
       "      <td>1570800000</td>\n",
       "      <td>collateralType28</td>\n",
       "      <td>4.750</td>\n",
       "      <td>1.0</td>\n",
       "      <td>couponType6</td>\n",
       "      <td>...</td>\n",
       "      <td>maturityType5</td>\n",
       "      <td>securityType2</td>\n",
       "      <td>paymentRank9</td>\n",
       "      <td>flag0</td>\n",
       "      <td>rating18</td>\n",
       "      <td>watch0</td>\n",
       "      <td>16-Mar-16</td>\n",
       "      <td>rating22</td>\n",
       "      <td>watch0</td>\n",
       "      <td>2May2013</td>\n",
       "    </tr>\n",
       "    <tr>\n",
       "      <th>4</th>\n",
       "      <td>isin4</td>\n",
       "      <td>issuer3711</td>\n",
       "      <td>25-Nov-14</td>\n",
       "      <td>Market0</td>\n",
       "      <td>1309000000</td>\n",
       "      <td>1309000000</td>\n",
       "      <td>collateralType12</td>\n",
       "      <td>7.125</td>\n",
       "      <td>1.0</td>\n",
       "      <td>couponType6</td>\n",
       "      <td>...</td>\n",
       "      <td>maturityType13</td>\n",
       "      <td>securityType3</td>\n",
       "      <td>paymentRank5</td>\n",
       "      <td>flag0</td>\n",
       "      <td>rating15</td>\n",
       "      <td>watch0</td>\n",
       "      <td>16-Mar-16</td>\n",
       "      <td>rating0</td>\n",
       "      <td>watch0</td>\n",
       "      <td>NA</td>\n",
       "    </tr>\n",
       "  </tbody>\n",
       "</table>\n",
       "<p>5 rows × 24 columns</p>\n",
       "</div>"
      ],
      "text/plain": [
       "    isin      issuer issue date   Market   amtIssued  amtOutstanding  \\\n",
       "0  isin0   issuer490   8Dec2011  Market2   183260000       183260000   \n",
       "1  isin1  issuer1193  10-Sep-10  Market2   261800000       198970000   \n",
       "2  isin2  issuer2943  14-Nov-14  Market2    78540000        78540000   \n",
       "3  isin3  issuer3707   4Mar2013  Market1  1570800000      1570800000   \n",
       "4  isin4  issuer3711  25-Nov-14  Market0  1309000000      1309000000   \n",
       "\n",
       "     collateralType  coupon  couponFrequency   couponType  ...  \\\n",
       "0  collateralType19  10.000              2.0  couponType1  ...   \n",
       "1  collateralType26   5.500              2.0  couponType1  ...   \n",
       "2  collateralType28   5.750              2.0  couponType1  ...   \n",
       "3  collateralType28   4.750              1.0  couponType6  ...   \n",
       "4  collateralType12   7.125              1.0  couponType6  ...   \n",
       "\n",
       "     maturityType   securityType   paymentRank 144aFlag ratingAgency1Rating  \\\n",
       "0   maturityType5  securityType3  paymentRank3    flag0             rating0   \n",
       "1  maturityType10  securityType5  paymentRank8    flag0             rating0   \n",
       "2  maturityType10  securityType5  paymentRank9    flag1             rating0   \n",
       "3   maturityType5  securityType2  paymentRank9    flag0            rating18   \n",
       "4  maturityType13  securityType3  paymentRank5    flag0            rating15   \n",
       "\n",
       "  ratingAgency1Watch ratingAgency1EffectiveDate ratingAgency2Rating  \\\n",
       "0             watch0                         NA             rating0   \n",
       "1             watch0                         NA             rating0   \n",
       "2             watch0                         NA             rating0   \n",
       "3             watch0                  16-Mar-16            rating22   \n",
       "4             watch0                  16-Mar-16             rating0   \n",
       "\n",
       "  ratingAgency2Watch ratingAgency2EffectiveDate  \n",
       "0             watch0                         NA  \n",
       "1             watch0                         NA  \n",
       "2             watch0                         NA  \n",
       "3             watch0                   2May2013  \n",
       "4             watch0                         NA  \n",
       "\n",
       "[5 rows x 24 columns]"
      ]
     },
     "execution_count": 26,
     "metadata": {},
     "output_type": "execute_result"
    }
   ],
   "source": [
    "df.head()"
   ]
  },
  {
   "cell_type": "code",
   "execution_count": 1,
   "metadata": {},
   "outputs": [],
   "source": [
    "# df.info()"
   ]
  },
  {
   "cell_type": "code",
   "execution_count": 11,
   "metadata": {},
   "outputs": [
    {
     "data": {
      "text/plain": [
       "(17261, 24)"
      ]
     },
     "execution_count": 11,
     "metadata": {},
     "output_type": "execute_result"
    }
   ],
   "source": [
    "df.shape"
   ]
  },
  {
   "cell_type": "code",
   "execution_count": 2,
   "metadata": {},
   "outputs": [],
   "source": [
    "# Check if any column has blank values\n",
    "# df.isna().sum()"
   ]
  },
  {
   "cell_type": "code",
   "execution_count": 3,
   "metadata": {},
   "outputs": [],
   "source": [
    "# df['isin'].nunique"
   ]
  },
  {
   "cell_type": "code",
   "execution_count": 4,
   "metadata": {},
   "outputs": [],
   "source": [
    "# df.columns"
   ]
  },
  {
   "cell_type": "code",
   "execution_count": 27,
   "metadata": {},
   "outputs": [
    {
     "data": {
      "text/html": [
       "<div>\n",
       "<style scoped>\n",
       "    .dataframe tbody tr th:only-of-type {\n",
       "        vertical-align: middle;\n",
       "    }\n",
       "\n",
       "    .dataframe tbody tr th {\n",
       "        vertical-align: top;\n",
       "    }\n",
       "\n",
       "    .dataframe thead th {\n",
       "        text-align: right;\n",
       "    }\n",
       "</style>\n",
       "<table border=\"1\" class=\"dataframe\">\n",
       "  <thead>\n",
       "    <tr style=\"text-align: right;\">\n",
       "      <th></th>\n",
       "      <th>isin</th>\n",
       "      <th>time</th>\n",
       "      <th>price</th>\n",
       "      <th>side</th>\n",
       "      <th>volume</th>\n",
       "      <th>timeofday</th>\n",
       "      <th>date</th>\n",
       "    </tr>\n",
       "  </thead>\n",
       "  <tbody>\n",
       "    <tr>\n",
       "      <th>0</th>\n",
       "      <td>isin10033</td>\n",
       "      <td>Mon 16May16 02:51:27.000 pm</td>\n",
       "      <td>117.363618</td>\n",
       "      <td>S</td>\n",
       "      <td>730000</td>\n",
       "      <td>Afternoon</td>\n",
       "      <td>16May2016</td>\n",
       "    </tr>\n",
       "    <tr>\n",
       "      <th>1</th>\n",
       "      <td>isin10033</td>\n",
       "      <td>Mon 16May16 03:45:52.000 pm</td>\n",
       "      <td>115.715329</td>\n",
       "      <td>B</td>\n",
       "      <td>730000</td>\n",
       "      <td>Afternoon</td>\n",
       "      <td>16May2016</td>\n",
       "    </tr>\n",
       "    <tr>\n",
       "      <th>2</th>\n",
       "      <td>isin10033</td>\n",
       "      <td>Wed  6Apr16 08:24:07.000 am</td>\n",
       "      <td>115.296450</td>\n",
       "      <td>B</td>\n",
       "      <td>5000</td>\n",
       "      <td>Morning</td>\n",
       "      <td>6Apr2016</td>\n",
       "    </tr>\n",
       "    <tr>\n",
       "      <th>3</th>\n",
       "      <td>isin10033</td>\n",
       "      <td>Wed  6Apr16 08:24:07.000 am</td>\n",
       "      <td>115.296450</td>\n",
       "      <td>B</td>\n",
       "      <td>5000</td>\n",
       "      <td>Morning</td>\n",
       "      <td>6Apr2016</td>\n",
       "    </tr>\n",
       "    <tr>\n",
       "      <th>4</th>\n",
       "      <td>isin10033</td>\n",
       "      <td>Wed  6Apr16 08:25:00.000 am</td>\n",
       "      <td>115.558250</td>\n",
       "      <td>S</td>\n",
       "      <td>5000</td>\n",
       "      <td>Morning</td>\n",
       "      <td>6Apr2016</td>\n",
       "    </tr>\n",
       "  </tbody>\n",
       "</table>\n",
       "</div>"
      ],
      "text/plain": [
       "        isin                         time       price side  volume  timeofday  \\\n",
       "0  isin10033  Mon 16May16 02:51:27.000 pm  117.363618    S  730000  Afternoon   \n",
       "1  isin10033  Mon 16May16 03:45:52.000 pm  115.715329    B  730000  Afternoon   \n",
       "2  isin10033  Wed  6Apr16 08:24:07.000 am  115.296450    B    5000    Morning   \n",
       "3  isin10033  Wed  6Apr16 08:24:07.000 am  115.296450    B    5000    Morning   \n",
       "4  isin10033  Wed  6Apr16 08:25:00.000 am  115.558250    S    5000    Morning   \n",
       "\n",
       "        date  \n",
       "0  16May2016  \n",
       "1  16May2016  \n",
       "2   6Apr2016  \n",
       "3   6Apr2016  \n",
       "4   6Apr2016  "
      ]
     },
     "execution_count": 27,
     "metadata": {},
     "output_type": "execute_result"
    }
   ],
   "source": [
    "data.head()"
   ]
  },
  {
   "cell_type": "markdown",
   "metadata": {},
   "source": [
    "* Find Mean Volume Of Each Bond"
   ]
  },
  {
   "cell_type": "code",
   "execution_count": 28,
   "metadata": {},
   "outputs": [],
   "source": [
    "avgv = pd.DataFrame(collection_avgvol.find())"
   ]
  },
  {
   "cell_type": "code",
   "execution_count": 29,
   "metadata": {},
   "outputs": [],
   "source": [
    "del avgv['_id']\n",
    "avgv[\"avgvol\"] = avgv.avgvol.astype('float64')\n",
    "avgv.dropna(inplace=True)\n",
    "avgv['isin']=avgv['isin'].str.lstrip()"
   ]
  },
  {
   "cell_type": "code",
   "execution_count": 5,
   "metadata": {},
   "outputs": [],
   "source": [
    "# avgv.info()"
   ]
  },
  {
   "cell_type": "code",
   "execution_count": 6,
   "metadata": {},
   "outputs": [],
   "source": [
    "# avgv.head()"
   ]
  },
  {
   "cell_type": "code",
   "execution_count": 7,
   "metadata": {},
   "outputs": [],
   "source": [
    "# avgv.shape"
   ]
  },
  {
   "cell_type": "code",
   "execution_count": 8,
   "metadata": {},
   "outputs": [],
   "source": [
    "# avgv['isin'].nunique"
   ]
  },
  {
   "cell_type": "markdown",
   "metadata": {},
   "source": [
    "* Fetch Bond Charachtristics And It's Avg Volumes (Append Volume of EAch Bond)"
   ]
  },
  {
   "cell_type": "code",
   "execution_count": 30,
   "metadata": {},
   "outputs": [],
   "source": [
    "df=df.merge(avgv, how='inner', on='isin')"
   ]
  },
  {
   "cell_type": "code",
   "execution_count": 31,
   "metadata": {},
   "outputs": [
    {
     "data": {
      "text/html": [
       "<div>\n",
       "<style scoped>\n",
       "    .dataframe tbody tr th:only-of-type {\n",
       "        vertical-align: middle;\n",
       "    }\n",
       "\n",
       "    .dataframe tbody tr th {\n",
       "        vertical-align: top;\n",
       "    }\n",
       "\n",
       "    .dataframe thead th {\n",
       "        text-align: right;\n",
       "    }\n",
       "</style>\n",
       "<table border=\"1\" class=\"dataframe\">\n",
       "  <thead>\n",
       "    <tr style=\"text-align: right;\">\n",
       "      <th></th>\n",
       "      <th>isin</th>\n",
       "      <th>issuer</th>\n",
       "      <th>issue date</th>\n",
       "      <th>Market</th>\n",
       "      <th>amtIssued</th>\n",
       "      <th>amtOutstanding</th>\n",
       "      <th>collateralType</th>\n",
       "      <th>coupon</th>\n",
       "      <th>couponFrequency</th>\n",
       "      <th>couponType</th>\n",
       "      <th>...</th>\n",
       "      <th>securityType</th>\n",
       "      <th>paymentRank</th>\n",
       "      <th>144aFlag</th>\n",
       "      <th>ratingAgency1Rating</th>\n",
       "      <th>ratingAgency1Watch</th>\n",
       "      <th>ratingAgency1EffectiveDate</th>\n",
       "      <th>ratingAgency2Rating</th>\n",
       "      <th>ratingAgency2Watch</th>\n",
       "      <th>ratingAgency2EffectiveDate</th>\n",
       "      <th>avgvol</th>\n",
       "    </tr>\n",
       "  </thead>\n",
       "  <tbody>\n",
       "    <tr>\n",
       "      <th>0</th>\n",
       "      <td>isin0</td>\n",
       "      <td>issuer490</td>\n",
       "      <td>8Dec2011</td>\n",
       "      <td>Market2</td>\n",
       "      <td>183260000</td>\n",
       "      <td>183260000</td>\n",
       "      <td>collateralType19</td>\n",
       "      <td>10.000</td>\n",
       "      <td>2.0</td>\n",
       "      <td>couponType1</td>\n",
       "      <td>...</td>\n",
       "      <td>securityType3</td>\n",
       "      <td>paymentRank3</td>\n",
       "      <td>flag0</td>\n",
       "      <td>rating0</td>\n",
       "      <td>watch0</td>\n",
       "      <td>NA</td>\n",
       "      <td>rating0</td>\n",
       "      <td>watch0</td>\n",
       "      <td>NA</td>\n",
       "      <td>3.888000e+06</td>\n",
       "    </tr>\n",
       "    <tr>\n",
       "      <th>1</th>\n",
       "      <td>isin1</td>\n",
       "      <td>issuer1193</td>\n",
       "      <td>10-Sep-10</td>\n",
       "      <td>Market2</td>\n",
       "      <td>261800000</td>\n",
       "      <td>198970000</td>\n",
       "      <td>collateralType26</td>\n",
       "      <td>5.500</td>\n",
       "      <td>2.0</td>\n",
       "      <td>couponType1</td>\n",
       "      <td>...</td>\n",
       "      <td>securityType5</td>\n",
       "      <td>paymentRank8</td>\n",
       "      <td>flag0</td>\n",
       "      <td>rating0</td>\n",
       "      <td>watch0</td>\n",
       "      <td>NA</td>\n",
       "      <td>rating0</td>\n",
       "      <td>watch0</td>\n",
       "      <td>NA</td>\n",
       "      <td>1.843235e+06</td>\n",
       "    </tr>\n",
       "    <tr>\n",
       "      <th>2</th>\n",
       "      <td>isin2</td>\n",
       "      <td>issuer2943</td>\n",
       "      <td>14-Nov-14</td>\n",
       "      <td>Market2</td>\n",
       "      <td>78540000</td>\n",
       "      <td>78540000</td>\n",
       "      <td>collateralType28</td>\n",
       "      <td>5.750</td>\n",
       "      <td>2.0</td>\n",
       "      <td>couponType1</td>\n",
       "      <td>...</td>\n",
       "      <td>securityType5</td>\n",
       "      <td>paymentRank9</td>\n",
       "      <td>flag1</td>\n",
       "      <td>rating0</td>\n",
       "      <td>watch0</td>\n",
       "      <td>NA</td>\n",
       "      <td>rating0</td>\n",
       "      <td>watch0</td>\n",
       "      <td>NA</td>\n",
       "      <td>3.870000e+06</td>\n",
       "    </tr>\n",
       "    <tr>\n",
       "      <th>3</th>\n",
       "      <td>isin3</td>\n",
       "      <td>issuer3707</td>\n",
       "      <td>4Mar2013</td>\n",
       "      <td>Market1</td>\n",
       "      <td>1570800000</td>\n",
       "      <td>1570800000</td>\n",
       "      <td>collateralType28</td>\n",
       "      <td>4.750</td>\n",
       "      <td>1.0</td>\n",
       "      <td>couponType6</td>\n",
       "      <td>...</td>\n",
       "      <td>securityType2</td>\n",
       "      <td>paymentRank9</td>\n",
       "      <td>flag0</td>\n",
       "      <td>rating18</td>\n",
       "      <td>watch0</td>\n",
       "      <td>16-Mar-16</td>\n",
       "      <td>rating22</td>\n",
       "      <td>watch0</td>\n",
       "      <td>2May2013</td>\n",
       "      <td>1.250755e+06</td>\n",
       "    </tr>\n",
       "    <tr>\n",
       "      <th>4</th>\n",
       "      <td>isin4</td>\n",
       "      <td>issuer3711</td>\n",
       "      <td>25-Nov-14</td>\n",
       "      <td>Market0</td>\n",
       "      <td>1309000000</td>\n",
       "      <td>1309000000</td>\n",
       "      <td>collateralType12</td>\n",
       "      <td>7.125</td>\n",
       "      <td>1.0</td>\n",
       "      <td>couponType6</td>\n",
       "      <td>...</td>\n",
       "      <td>securityType3</td>\n",
       "      <td>paymentRank5</td>\n",
       "      <td>flag0</td>\n",
       "      <td>rating15</td>\n",
       "      <td>watch0</td>\n",
       "      <td>16-Mar-16</td>\n",
       "      <td>rating0</td>\n",
       "      <td>watch0</td>\n",
       "      <td>NA</td>\n",
       "      <td>3.400000e+05</td>\n",
       "    </tr>\n",
       "  </tbody>\n",
       "</table>\n",
       "<p>5 rows × 25 columns</p>\n",
       "</div>"
      ],
      "text/plain": [
       "    isin      issuer issue date   Market   amtIssued  amtOutstanding  \\\n",
       "0  isin0   issuer490   8Dec2011  Market2   183260000       183260000   \n",
       "1  isin1  issuer1193  10-Sep-10  Market2   261800000       198970000   \n",
       "2  isin2  issuer2943  14-Nov-14  Market2    78540000        78540000   \n",
       "3  isin3  issuer3707   4Mar2013  Market1  1570800000      1570800000   \n",
       "4  isin4  issuer3711  25-Nov-14  Market0  1309000000      1309000000   \n",
       "\n",
       "     collateralType  coupon  couponFrequency   couponType  ...   securityType  \\\n",
       "0  collateralType19  10.000              2.0  couponType1  ...  securityType3   \n",
       "1  collateralType26   5.500              2.0  couponType1  ...  securityType5   \n",
       "2  collateralType28   5.750              2.0  couponType1  ...  securityType5   \n",
       "3  collateralType28   4.750              1.0  couponType6  ...  securityType2   \n",
       "4  collateralType12   7.125              1.0  couponType6  ...  securityType3   \n",
       "\n",
       "    paymentRank 144aFlag ratingAgency1Rating ratingAgency1Watch  \\\n",
       "0  paymentRank3    flag0             rating0             watch0   \n",
       "1  paymentRank8    flag0             rating0             watch0   \n",
       "2  paymentRank9    flag1             rating0             watch0   \n",
       "3  paymentRank9    flag0            rating18             watch0   \n",
       "4  paymentRank5    flag0            rating15             watch0   \n",
       "\n",
       "  ratingAgency1EffectiveDate ratingAgency2Rating ratingAgency2Watch  \\\n",
       "0                         NA             rating0             watch0   \n",
       "1                         NA             rating0             watch0   \n",
       "2                         NA             rating0             watch0   \n",
       "3                  16-Mar-16            rating22             watch0   \n",
       "4                  16-Mar-16             rating0             watch0   \n",
       "\n",
       "  ratingAgency2EffectiveDate        avgvol  \n",
       "0                         NA  3.888000e+06  \n",
       "1                         NA  1.843235e+06  \n",
       "2                         NA  3.870000e+06  \n",
       "3                   2May2013  1.250755e+06  \n",
       "4                         NA  3.400000e+05  \n",
       "\n",
       "[5 rows x 25 columns]"
      ]
     },
     "execution_count": 31,
     "metadata": {},
     "output_type": "execute_result"
    }
   ],
   "source": [
    "df.head()"
   ]
  },
  {
   "cell_type": "code",
   "execution_count": 32,
   "metadata": {},
   "outputs": [],
   "source": [
    "# df.isna().sum()"
   ]
  },
  {
   "cell_type": "markdown",
   "metadata": {},
   "source": [
    "#### Graphs Bond Volume Vs. Amount Outstanding By Various Factors"
   ]
  },
  {
   "cell_type": "code",
   "execution_count": 33,
   "metadata": {},
   "outputs": [],
   "source": [
    "def update1(Featur):\n",
    "    fig=plt.gcf()\n",
    "    fig.set_size_inches(15,8)\n",
    "    if   Featur == \"VolVsOutStandByCoupon\": sns.scatterplot(data=df, x=df['amtOutstanding'], y=df['avgvol'], hue='coupon')\n",
    "    elif Featur == \"VolVsOutStandByIndust\": sns.scatterplot(data=df, x=df['amtOutstanding'], y=df['avgvol'], hue='industrySector')\n",
    "    elif Featur == \"VolVsOutStandBySecurT\": sns.scatterplot(data=df, x=df['amtOutstanding'], y=df['avgvol'], hue='securityType')\n",
    "    elif Featur == \"VolVsOutStandByPayRank\": sns.scatterplot(data=df, x=df['amtOutstanding'], y=df['avgvol'], hue='paymentRank')  \n",
    "    elif Featur == \"VolVsOutStandByMarket\": sns.scatterplot(data=df, x=df['amtOutstanding'], y=df['avgvol'], hue='Market')  "
   ]
  },
  {
   "cell_type": "markdown",
   "metadata": {},
   "source": [
    "* Choose A Graph To Visualize"
   ]
  },
  {
   "cell_type": "code",
   "execution_count": 34,
   "metadata": {},
   "outputs": [
    {
     "data": {
      "application/vnd.jupyter.widget-view+json": {
       "model_id": "694c4bb5577d4a10b018b9a705112a71",
       "version_major": 2,
       "version_minor": 0
      },
      "text/plain": [
       "interactive(children=(Dropdown(description='Featur', options=('VolVsOutStandByCoupon', 'VolVsOutStandByIndust'…"
      ]
     },
     "metadata": {},
     "output_type": "display_data"
    }
   ],
   "source": [
    "from ipywidgets import interact\n",
    "_ = interact(update1, Featur=[\"VolVsOutStandByCoupon\", \"VolVsOutStandByIndust\", \"VolVsOutStandBySecurT\", \"VolVsOutStandByPayRank\", \"VolVsOutStandByMarket\" ])\n",
    "sns.set('notebook')"
   ]
  },
  {
   "cell_type": "markdown",
   "metadata": {},
   "source": [
    "#### Graphs Bond Volume Vs. Amount Issued By Various Factors"
   ]
  },
  {
   "cell_type": "markdown",
   "metadata": {},
   "source": [
    "* Choose A Graph To Visualize"
   ]
  },
  {
   "cell_type": "code",
   "execution_count": 35,
   "metadata": {},
   "outputs": [],
   "source": [
    "def update2(Featur):\n",
    "    fig=plt.gcf()\n",
    "    fig.set_size_inches(15,8)\n",
    "    if   Featur == \"VolVsAmtIssuedByCoupon\": sns.scatterplot(data=df, x=df['amtIssued'], y=df['avgvol'], hue='coupon')\n",
    "    elif Featur == \"VolVsAmtIssuedByIndus\": sns.scatterplot(data=df, x=df['amtIssued'], y=df['avgvol'], hue='industrySector')\n",
    "    elif Featur == \"VolVsAmtIssuedBySecurT\": sns.scatterplot(data=df, x=df['amtIssued'], y=df['avgvol'], hue='securityType')\n",
    "    elif Featur == \"VolVsAmountIssuedByPayRank\": sns.scatterplot(data=df, x=df['amtIssued'], y=df['avgvol'], hue='paymentRank')   \n",
    "    elif Featur == \"VolVsAmountIssuedByMarket\": sns.scatterplot(data=df, x=df['amtIssued'], y=df['avgvol'], hue='Market') "
   ]
  },
  {
   "cell_type": "code",
   "execution_count": 36,
   "metadata": {},
   "outputs": [
    {
     "data": {
      "application/vnd.jupyter.widget-view+json": {
       "model_id": "20237bba02d34db4b67d47cdb07ee7bc",
       "version_major": 2,
       "version_minor": 0
      },
      "text/plain": [
       "interactive(children=(Dropdown(description='Featur', options=('VolVsAmtIssuedByCoupon', 'VolVsAmtIssuedByIndus…"
      ]
     },
     "metadata": {},
     "output_type": "display_data"
    }
   ],
   "source": [
    "from ipywidgets import interact\n",
    "_ = interact(update2, Featur=[\"VolVsAmtIssuedByCoupon\", \"VolVsAmtIssuedByIndus\", \"VolVsAmtIssuedBySecurT\", \"VolVsAmountIssuedByPayRank\", \"VolVsAmountIssuedByMarket\"])"
   ]
  },
  {
   "cell_type": "markdown",
   "metadata": {},
   "source": [
    "### Distribution of Bond Volume Over The 4 Parameters"
   ]
  },
  {
   "cell_type": "code",
   "execution_count": 37,
   "metadata": {},
   "outputs": [],
   "source": [
    "# from matplotlib.figure import Figure as fig\n",
    "cols = ['ratingAgency1Watch', 'couponType', 'securityType', 'ratingAgency2Watch']"
   ]
  },
  {
   "cell_type": "code",
   "execution_count": 38,
   "metadata": {},
   "outputs": [],
   "source": [
    "def update3(Featur):\n",
    "    fig=plt.gcf()\n",
    "    fig.set_size_inches(15,8)\n",
    "    if   Featur == \"VolVsRatingAgency1\": sns.boxplot(x=cols[0], y='avgvol', data=df.sort_values(cols[0]).reset_index(drop=True), linewidth=2.5)\n",
    "    elif Featur == \"VolVsCouponType\": sns.boxplot(x=cols[1], y='avgvol', data=df.sort_values(cols[1]).reset_index(drop=True), linewidth=2.5)\n",
    "    elif Featur == \"VolVsSecurT\": sns.boxplot(x=cols[2], y='avgvol', data=df.sort_values(cols[2]).reset_index(drop=True), linewidth=2.5)\n",
    "    elif Featur == \"VolVsRatingAgency2\": sns.boxplot(x=cols[3], y='avgvol', data=df.sort_values(cols[3]).reset_index(drop=True), linewidth=2.5)"
   ]
  },
  {
   "cell_type": "code",
   "execution_count": 39,
   "metadata": {},
   "outputs": [
    {
     "data": {
      "application/vnd.jupyter.widget-view+json": {
       "model_id": "44c808b4bba44780a44cccee84618aea",
       "version_major": 2,
       "version_minor": 0
      },
      "text/plain": [
       "interactive(children=(Dropdown(description='Featur', options=('VolVsRatingAgency1', 'VolVsCouponType', 'VolVsS…"
      ]
     },
     "metadata": {},
     "output_type": "display_data"
    }
   ],
   "source": [
    "from ipywidgets import interact\n",
    "_ = interact(update3, Featur=[\"VolVsRatingAgency1\", \"VolVsCouponType\", \"VolVsSecurT\", \"VolVsRatingAgency2\"])"
   ]
  },
  {
   "cell_type": "markdown",
   "metadata": {},
   "source": [
    "#### Regression Over the Number of Days"
   ]
  },
  {
   "cell_type": "code",
   "execution_count": 40,
   "metadata": {},
   "outputs": [
    {
     "data": {
      "text/html": [
       "<div>\n",
       "<style scoped>\n",
       "    .dataframe tbody tr th:only-of-type {\n",
       "        vertical-align: middle;\n",
       "    }\n",
       "\n",
       "    .dataframe tbody tr th {\n",
       "        vertical-align: top;\n",
       "    }\n",
       "\n",
       "    .dataframe thead th {\n",
       "        text-align: right;\n",
       "    }\n",
       "</style>\n",
       "<table border=\"1\" class=\"dataframe\">\n",
       "  <thead>\n",
       "    <tr style=\"text-align: right;\">\n",
       "      <th></th>\n",
       "      <th>isin</th>\n",
       "      <th>time</th>\n",
       "      <th>price</th>\n",
       "      <th>side</th>\n",
       "      <th>volume</th>\n",
       "      <th>timeofday</th>\n",
       "      <th>date</th>\n",
       "      <th>days</th>\n",
       "    </tr>\n",
       "  </thead>\n",
       "  <tbody>\n",
       "    <tr>\n",
       "      <th>0</th>\n",
       "      <td>isin10033</td>\n",
       "      <td>Mon 16May16 02:51:27.000 pm</td>\n",
       "      <td>117.363618</td>\n",
       "      <td>S</td>\n",
       "      <td>730000</td>\n",
       "      <td>Afternoon</td>\n",
       "      <td>16May2016</td>\n",
       "      <td>136.5</td>\n",
       "    </tr>\n",
       "    <tr>\n",
       "      <th>1</th>\n",
       "      <td>isin10033</td>\n",
       "      <td>Mon 16May16 03:45:52.000 pm</td>\n",
       "      <td>115.715329</td>\n",
       "      <td>B</td>\n",
       "      <td>730000</td>\n",
       "      <td>Afternoon</td>\n",
       "      <td>16May2016</td>\n",
       "      <td>136.5</td>\n",
       "    </tr>\n",
       "    <tr>\n",
       "      <th>2</th>\n",
       "      <td>isin10033</td>\n",
       "      <td>Wed  6Apr16 08:24:07.000 am</td>\n",
       "      <td>115.296450</td>\n",
       "      <td>B</td>\n",
       "      <td>5000</td>\n",
       "      <td>Morning</td>\n",
       "      <td>6Apr2016</td>\n",
       "      <td>96.0</td>\n",
       "    </tr>\n",
       "    <tr>\n",
       "      <th>3</th>\n",
       "      <td>isin10033</td>\n",
       "      <td>Wed  6Apr16 08:24:07.000 am</td>\n",
       "      <td>115.296450</td>\n",
       "      <td>B</td>\n",
       "      <td>5000</td>\n",
       "      <td>Morning</td>\n",
       "      <td>6Apr2016</td>\n",
       "      <td>96.0</td>\n",
       "    </tr>\n",
       "    <tr>\n",
       "      <th>4</th>\n",
       "      <td>isin10033</td>\n",
       "      <td>Wed  6Apr16 08:25:00.000 am</td>\n",
       "      <td>115.558250</td>\n",
       "      <td>S</td>\n",
       "      <td>5000</td>\n",
       "      <td>Morning</td>\n",
       "      <td>6Apr2016</td>\n",
       "      <td>96.0</td>\n",
       "    </tr>\n",
       "  </tbody>\n",
       "</table>\n",
       "</div>"
      ],
      "text/plain": [
       "        isin                         time       price side  volume  timeofday  \\\n",
       "0  isin10033  Mon 16May16 02:51:27.000 pm  117.363618    S  730000  Afternoon   \n",
       "1  isin10033  Mon 16May16 03:45:52.000 pm  115.715329    B  730000  Afternoon   \n",
       "2  isin10033  Wed  6Apr16 08:24:07.000 am  115.296450    B    5000    Morning   \n",
       "3  isin10033  Wed  6Apr16 08:24:07.000 am  115.296450    B    5000    Morning   \n",
       "4  isin10033  Wed  6Apr16 08:25:00.000 am  115.558250    S    5000    Morning   \n",
       "\n",
       "        date   days  \n",
       "0  16May2016  136.5  \n",
       "1  16May2016  136.5  \n",
       "2   6Apr2016   96.0  \n",
       "3   6Apr2016   96.0  \n",
       "4   6Apr2016   96.0  "
      ]
     },
     "execution_count": 40,
     "metadata": {},
     "output_type": "execute_result"
    }
   ],
   "source": [
    "months = ['Jan', 'Feb', 'Mar', 'Apr', 'May', 'Jun', 'Jul', 'Aug', 'Sep']\n",
    "tod = ['Morning', 'Afternoon']\n",
    "\n",
    "data['days'] = data['date'].apply(lambda x: months.index(x[-7:-4])*30 + int(x[:-7]))\n",
    "data['days'] += data['timeofday'].apply(lambda x: 0.5*tod.index(x))\n",
    "data.head()"
   ]
  },
  {
   "cell_type": "code",
   "execution_count": 42,
   "metadata": {},
   "outputs": [
    {
     "data": {
      "text/html": [
       "<div>\n",
       "<style scoped>\n",
       "    .dataframe tbody tr th:only-of-type {\n",
       "        vertical-align: middle;\n",
       "    }\n",
       "\n",
       "    .dataframe tbody tr th {\n",
       "        vertical-align: top;\n",
       "    }\n",
       "\n",
       "    .dataframe thead th {\n",
       "        text-align: right;\n",
       "    }\n",
       "</style>\n",
       "<table border=\"1\" class=\"dataframe\">\n",
       "  <thead>\n",
       "    <tr style=\"text-align: right;\">\n",
       "      <th></th>\n",
       "      <th>isin</th>\n",
       "      <th>time</th>\n",
       "      <th>price</th>\n",
       "      <th>side</th>\n",
       "      <th>volume</th>\n",
       "      <th>timeofday</th>\n",
       "      <th>date</th>\n",
       "      <th>days</th>\n",
       "    </tr>\n",
       "  </thead>\n",
       "  <tbody>\n",
       "    <tr>\n",
       "      <th>0</th>\n",
       "      <td>isin8495</td>\n",
       "      <td>Wed 16Mar16 11:24:42.000 am</td>\n",
       "      <td>104.876835</td>\n",
       "      <td>S</td>\n",
       "      <td>260000</td>\n",
       "      <td>Morning</td>\n",
       "      <td>16Mar2016</td>\n",
       "      <td>76.0</td>\n",
       "    </tr>\n",
       "    <tr>\n",
       "      <th>1</th>\n",
       "      <td>isin8495</td>\n",
       "      <td>Fri 18Mar16 11:16:38.000 am</td>\n",
       "      <td>104.733369</td>\n",
       "      <td>B</td>\n",
       "      <td>250000</td>\n",
       "      <td>Morning</td>\n",
       "      <td>18Mar2016</td>\n",
       "      <td>78.0</td>\n",
       "    </tr>\n",
       "    <tr>\n",
       "      <th>2</th>\n",
       "      <td>isin8495</td>\n",
       "      <td>Mon 21Mar16 12:12:57.000 pm</td>\n",
       "      <td>104.798295</td>\n",
       "      <td>B</td>\n",
       "      <td>1790000</td>\n",
       "      <td>Afternoon</td>\n",
       "      <td>21Mar2016</td>\n",
       "      <td>81.5</td>\n",
       "    </tr>\n",
       "    <tr>\n",
       "      <th>3</th>\n",
       "      <td>isin8495</td>\n",
       "      <td>Wed 23Mar16 08:52:47.000 am</td>\n",
       "      <td>104.731274</td>\n",
       "      <td>B</td>\n",
       "      <td>3570000</td>\n",
       "      <td>Morning</td>\n",
       "      <td>23Mar2016</td>\n",
       "      <td>83.0</td>\n",
       "    </tr>\n",
       "    <tr>\n",
       "      <th>4</th>\n",
       "      <td>isin8495</td>\n",
       "      <td>Wed 23Mar16 12:48:01.000 pm</td>\n",
       "      <td>104.739652</td>\n",
       "      <td>S</td>\n",
       "      <td>3570000</td>\n",
       "      <td>Afternoon</td>\n",
       "      <td>23Mar2016</td>\n",
       "      <td>83.5</td>\n",
       "    </tr>\n",
       "  </tbody>\n",
       "</table>\n",
       "</div>"
      ],
      "text/plain": [
       "       isin                         time       price side   volume  timeofday  \\\n",
       "0  isin8495  Wed 16Mar16 11:24:42.000 am  104.876835    S   260000    Morning   \n",
       "1  isin8495  Fri 18Mar16 11:16:38.000 am  104.733369    B   250000    Morning   \n",
       "2  isin8495  Mon 21Mar16 12:12:57.000 pm  104.798295    B  1790000  Afternoon   \n",
       "3  isin8495  Wed 23Mar16 08:52:47.000 am  104.731274    B  3570000    Morning   \n",
       "4  isin8495  Wed 23Mar16 12:48:01.000 pm  104.739652    S  3570000  Afternoon   \n",
       "\n",
       "        date  days  \n",
       "0  16Mar2016  76.0  \n",
       "1  18Mar2016  78.0  \n",
       "2  21Mar2016  81.5  \n",
       "3  23Mar2016  83.0  \n",
       "4  23Mar2016  83.5  "
      ]
     },
     "execution_count": 42,
     "metadata": {},
     "output_type": "execute_result"
    }
   ],
   "source": [
    "t1 = data[data['isin'] == 'isin8495'].sort_values('days')\n",
    "t1.reset_index(drop=True).head()"
   ]
  },
  {
   "cell_type": "code",
   "execution_count": 43,
   "metadata": {},
   "outputs": [
    {
     "data": {
      "image/png": "[encoded data removed]",
      "text/plain": [
       "<Figure size 864x432 with 1 Axes>"
      ]
     },
     "metadata": {},
     "output_type": "display_data"
    }
   ],
   "source": [
    "sns.pairplot(t1[t1['side']=='B'], x_vars=['days'], y_vars=['volume'], height = 4)\n",
    "fig=plt.gcf()\n",
    "fig.set_size_inches(12,6)"
   ]
  },
  {
   "cell_type": "code",
   "execution_count": 44,
   "metadata": {},
   "outputs": [
    {
     "data": {
      "image/png": "[encoded data removed]",
      "text/plain": [
       "<Figure size 864x432 with 1 Axes>"
      ]
     },
     "metadata": {},
     "output_type": "display_data"
    }
   ],
   "source": [
    "sns.pairplot(t1[t1['side']=='S'], x_vars=['days'], y_vars=['volume'], height = 4)\n",
    "fig=plt.gcf()\n",
    "fig.set_size_inches(12,6)"
   ]
  },
  {
   "cell_type": "code",
   "execution_count": 45,
   "metadata": {},
   "outputs": [
    {
     "data": {
      "image/png": "[encoded data removed]",
      "text/plain": [
       "<Figure size 1080x576 with 1 Axes>"
      ]
     },
     "metadata": {},
     "output_type": "display_data"
    }
   ],
   "source": [
    "fig=plt.gcf()\n",
    "fig.set_size_inches(15,8)\n",
    "t1 = data[data['isin'] == 'isin8405'].sort_values('days')\n",
    "a_plot=sns.regplot(x='days', y='volume', data=t1[t1['side']=='B'])"
   ]
  },
  {
   "cell_type": "markdown",
   "metadata": {},
   "source": [
    "* Buying Selling Volume By Session Of The Day"
   ]
  },
  {
   "cell_type": "code",
   "execution_count": 46,
   "metadata": {},
   "outputs": [],
   "source": [
    "sns.set()"
   ]
  },
  {
   "cell_type": "code",
   "execution_count": 47,
   "metadata": {},
   "outputs": [],
   "source": [
    "def bondSessionVol(bondnm,sid):\n",
    "    data[ (data['isin']==bondnm) & (data['side']==sid) ].groupby(\"timeofday\")[\"volume\"].sum().plot.pie(autopct=\"%.2f%%\")\n",
    "    fig=plt.gcf()\n",
    "    fig.set_size_inches(12,6)"
   ]
  },
  {
   "cell_type": "code",
   "execution_count": 48,
   "metadata": {},
   "outputs": [
    {
     "data": {
      "application/vnd.jupyter.widget-view+json": {
       "model_id": "3e8ea6fa1acc4a5894cf0c53be96a9c6",
       "version_major": 2,
       "version_minor": 0
      },
      "text/plain": [
       "interactive(children=(Dropdown(description='bondnm', options=('isin10033', 'isin100', 'isin10272', 'isin10023'…"
      ]
     },
     "metadata": {},
     "output_type": "display_data"
    }
   ],
   "source": [
    "from ipywidgets import interact\n",
    "_ = interact(bondSessionVol, bondnm=data['isin'].unique(), sid=['B', 'S'] )\n"
   ]
  },
  {
   "cell_type": "markdown",
   "metadata": {},
   "source": [
    "#### Trend In Bond's Prices"
   ]
  },
  {
   "cell_type": "code",
   "execution_count": 49,
   "metadata": {},
   "outputs": [],
   "source": [
    "def bondpricebuysell(bondnm):\n",
    "    fig=plt.gcf()\n",
    "    fig.set_size_inches(15,8)\n",
    "    df_ts_price=data[ (data['isin']==bondnm)]\n",
    "    df_ts_price['prop_time']=pd.to_datetime(df_ts_price['time'], infer_datetime_format=True) \n",
    "    df_ts_price=df_ts_price.sort_values('prop_time')\n",
    "    sns.lineplot(data=df_ts_price, x=\"prop_time\", y=\"price\", hue='side')"
   ]
  },
  {
   "cell_type": "code",
   "execution_count": 50,
   "metadata": {},
   "outputs": [
    {
     "data": {
      "application/vnd.jupyter.widget-view+json": {
       "model_id": "7a207c3ae8c54317ad65e447e3ef4918",
       "version_major": 2,
       "version_minor": 0
      },
      "text/plain": [
       "interactive(children=(Dropdown(description='bondnm', options=('isin10033', 'isin100', 'isin10272', 'isin10023'…"
      ]
     },
     "metadata": {},
     "output_type": "display_data"
    }
   ],
   "source": [
    "from ipywidgets import interact\n",
    "_ = interact(bondpricebuysell, bondnm=data['isin'].unique())\n"
   ]
  },
  {
   "cell_type": "markdown",
   "metadata": {},
   "source": [
    "#### Trend In Bond's Volume"
   ]
  },
  {
   "cell_type": "code",
   "execution_count": 51,
   "metadata": {},
   "outputs": [],
   "source": [
    "def bondvolts(bondnm):\n",
    "    fig=plt.gcf()\n",
    "    fig.set_size_inches(15,8)\n",
    "    df_ts_vol=data[ (data['isin']==bondnm)]\n",
    "    df_ts_vol['prop_time']=pd.to_datetime(df_ts_vol['time'], infer_datetime_format=True) \n",
    "    df_ts_vol=df_ts_vol.sort_values('prop_time')\n",
    "    sns.lineplot(data=df_ts_vol, x=\"prop_time\", y=\"volume\", hue='side')"
   ]
  },
  {
   "cell_type": "code",
   "execution_count": 52,
   "metadata": {},
   "outputs": [
    {
     "data": {
      "application/vnd.jupyter.widget-view+json": {
       "model_id": "51e250add43c4ad5be430b334a5045d6",
       "version_major": 2,
       "version_minor": 0
      },
      "text/plain": [
       "interactive(children=(Dropdown(description='bondnm', options=('isin10033', 'isin100', 'isin10272', 'isin10023'…"
      ]
     },
     "metadata": {},
     "output_type": "display_data"
    }
   ],
   "source": [
    "from ipywidgets import interact\n",
    "_ = interact(bondvolts, bondnm=data['isin'].unique())"
   ]
  },
  {
   "cell_type": "markdown",
   "metadata": {},
   "source": [
    "#### Top 5 Bonds Bought"
   ]
  },
  {
   "cell_type": "code",
   "execution_count": 56,
   "metadata": {},
   "outputs": [],
   "source": [
    " df_top_buy_vol=data[data['side']=='B'].groupby(\"isin\")[\"volume\"].sum().nlargest(5)"
   ]
  },
  {
   "cell_type": "code",
   "execution_count": 57,
   "metadata": {},
   "outputs": [
    {
     "data": {
      "text/plain": [
       "isin\n",
       "isin11320    3.122680e+09\n",
       "isin11321    2.457575e+09\n",
       "isin984      2.120365e+09\n",
       "isin4797     1.985610e+09\n",
       "isin10883    1.605620e+09\n",
       "Name: volume, dtype: float64"
      ]
     },
     "execution_count": 57,
     "metadata": {},
     "output_type": "execute_result"
    }
   ],
   "source": [
    "df_top_buy_vol.astype('float64')"
   ]
  },
  {
   "cell_type": "code",
   "execution_count": 58,
   "metadata": {},
   "outputs": [
    {
     "data": {
      "text/plain": [
       "array(['isin11320', 'isin11321', 'isin984', 'isin4797', 'isin10883'],\n",
       "      dtype=object)"
      ]
     },
     "execution_count": 58,
     "metadata": {},
     "output_type": "execute_result"
    }
   ],
   "source": [
    "df_top_buy_vol.index.values"
   ]
  },
  {
   "cell_type": "code",
   "execution_count": 84,
   "metadata": {},
   "outputs": [
    {
     "data": {
      "text/plain": [
       "<matplotlib.axes._subplots.AxesSubplot at 0x1fea5c6a7f0>"
      ]
     },
     "execution_count": 84,
     "metadata": {},
     "output_type": "execute_result"
    },
    {
     "data": {
      "image/png": "[encoded data removed]",
      "text/plain": [
       "<Figure size 1080x576 with 1 Axes>"
      ]
     },
     "metadata": {},
     "output_type": "display_data"
    }
   ],
   "source": [
    "fig=plt.gcf()\n",
    "fig.set_size_inches(15,8)\n",
    "sns.barplot(x=df_top_buy_vol.index.values, y=df_top_buy_vol, data=df_top_buy_vol)"
   ]
  },
  {
   "cell_type": "markdown",
   "metadata": {},
   "source": [
    "#### Top 5 Bonds Sold"
   ]
  },
  {
   "cell_type": "code",
   "execution_count": 60,
   "metadata": {},
   "outputs": [],
   "source": [
    " df_top_sell_vol=data[data['side']=='S'].groupby(\"isin\")[\"volume\"].sum().nlargest(5)"
   ]
  },
  {
   "cell_type": "code",
   "execution_count": 61,
   "metadata": {},
   "outputs": [
    {
     "data": {
      "text/plain": [
       "array(['isin11320', 'isin11321', 'isin984', 'isin4797', 'isin983'],\n",
       "      dtype=object)"
      ]
     },
     "execution_count": 61,
     "metadata": {},
     "output_type": "execute_result"
    }
   ],
   "source": [
    "df_top_sell_vol.index.values"
   ]
  },
  {
   "cell_type": "code",
   "execution_count": 85,
   "metadata": {},
   "outputs": [
    {
     "data": {
      "text/plain": [
       "<matplotlib.axes._subplots.AxesSubplot at 0x1fec99d4940>"
      ]
     },
     "execution_count": 85,
     "metadata": {},
     "output_type": "execute_result"
    },
    {
     "data": {
      "image/png": "[encoded data removed]",
      "text/plain": [
       "<Figure size 1080x576 with 1 Axes>"
      ]
     },
     "metadata": {},
     "output_type": "display_data"
    }
   ],
   "source": [
    "fig=plt.gcf()\n",
    "fig.set_size_inches(15,8)\n",
    "sns.barplot(x=df_top_sell_vol.index.values, y=df_top_sell_vol, data=df_top_sell_vol)"
   ]
  }
 ],
 "metadata": {
  "kernelspec": {
   "display_name": "Python 3",
   "language": "python",
   "name": "python3"
  },
  "language_info": {
   "codemirror_mode": {
    "name": "ipython",
    "version": 3
   },
   "file_extension": ".py",
   "mimetype": "text/x-python",
   "name": "python",
   "nbconvert_exporter": "python",
   "pygments_lexer": "ipython3",
   "version": "3.8.3"
  }
 },
 "nbformat": 4,
 "nbformat_minor": 4
}
