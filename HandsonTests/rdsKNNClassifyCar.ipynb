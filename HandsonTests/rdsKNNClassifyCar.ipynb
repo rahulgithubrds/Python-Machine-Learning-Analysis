{
 "cells": [
  {
   "cell_type": "markdown",
   "metadata": {},
   "source": [
    "# CAR Evaluation KNN Classifier"
   ]
  },
  {
   "cell_type": "code",
   "execution_count": 1,
   "metadata": {},
   "outputs": [],
   "source": [
    "import pandas as pd\n",
    "import numpy as np"
   ]
  },
  {
   "cell_type": "code",
   "execution_count": 2,
   "metadata": {},
   "outputs": [
    {
     "data": {
      "text/plain": [
       "<bound method NDFrame.head of      buying  maint  doors persons lug_boot safety carclass\n",
       "0     vhigh  vhigh      2       2    small    low    unacc\n",
       "1     vhigh  vhigh      2       2    small    med    unacc\n",
       "2     vhigh  vhigh      2       2    small   high    unacc\n",
       "3     vhigh  vhigh      2       2      med    low    unacc\n",
       "4     vhigh  vhigh      2       2      med    med    unacc\n",
       "...     ...    ...    ...     ...      ...    ...      ...\n",
       "1723    low    low  5more    more      med    med     good\n",
       "1724    low    low  5more    more      med   high    vgood\n",
       "1725    low    low  5more    more      big    low    unacc\n",
       "1726    low    low  5more    more      big    med     good\n",
       "1727    low    low  5more    more      big   high    vgood\n",
       "\n",
       "[1728 rows x 7 columns]>"
      ]
     },
     "execution_count": 2,
     "metadata": {},
     "output_type": "execute_result"
    }
   ],
   "source": [
    "## Load dataset - data is categorical\n",
    "clist=['buying','maint', 'doors', 'persons', 'lug_boot', 'safety', 'carclass']\n",
    "df = pd.read_csv(\"uci-car-evaluation/original/car_data.csv\", names=clist)\n",
    "df.shape\n",
    "df.head\n"
   ]
  },
  {
   "cell_type": "code",
   "execution_count": 3,
   "metadata": {},
   "outputs": [
    {
     "data": {
      "text/html": [
       "<div>\n",
       "<style scoped>\n",
       "    .dataframe tbody tr th:only-of-type {\n",
       "        vertical-align: middle;\n",
       "    }\n",
       "\n",
       "    .dataframe tbody tr th {\n",
       "        vertical-align: top;\n",
       "    }\n",
       "\n",
       "    .dataframe thead th {\n",
       "        text-align: right;\n",
       "    }\n",
       "</style>\n",
       "<table border=\"1\" class=\"dataframe\">\n",
       "  <thead>\n",
       "    <tr style=\"text-align: right;\">\n",
       "      <th></th>\n",
       "      <th>buying</th>\n",
       "      <th>maint</th>\n",
       "      <th>doors</th>\n",
       "      <th>persons</th>\n",
       "      <th>lug_boot</th>\n",
       "      <th>safety</th>\n",
       "      <th>carclass</th>\n",
       "    </tr>\n",
       "  </thead>\n",
       "  <tbody>\n",
       "    <tr>\n",
       "      <th>0</th>\n",
       "      <td>vhigh</td>\n",
       "      <td>vhigh</td>\n",
       "      <td>2</td>\n",
       "      <td>2</td>\n",
       "      <td>small</td>\n",
       "      <td>low</td>\n",
       "      <td>unacc</td>\n",
       "    </tr>\n",
       "    <tr>\n",
       "      <th>1</th>\n",
       "      <td>vhigh</td>\n",
       "      <td>vhigh</td>\n",
       "      <td>2</td>\n",
       "      <td>2</td>\n",
       "      <td>small</td>\n",
       "      <td>med</td>\n",
       "      <td>unacc</td>\n",
       "    </tr>\n",
       "    <tr>\n",
       "      <th>2</th>\n",
       "      <td>vhigh</td>\n",
       "      <td>vhigh</td>\n",
       "      <td>2</td>\n",
       "      <td>2</td>\n",
       "      <td>small</td>\n",
       "      <td>high</td>\n",
       "      <td>unacc</td>\n",
       "    </tr>\n",
       "    <tr>\n",
       "      <th>3</th>\n",
       "      <td>vhigh</td>\n",
       "      <td>vhigh</td>\n",
       "      <td>2</td>\n",
       "      <td>2</td>\n",
       "      <td>med</td>\n",
       "      <td>low</td>\n",
       "      <td>unacc</td>\n",
       "    </tr>\n",
       "    <tr>\n",
       "      <th>4</th>\n",
       "      <td>vhigh</td>\n",
       "      <td>vhigh</td>\n",
       "      <td>2</td>\n",
       "      <td>2</td>\n",
       "      <td>med</td>\n",
       "      <td>med</td>\n",
       "      <td>unacc</td>\n",
       "    </tr>\n",
       "  </tbody>\n",
       "</table>\n",
       "</div>"
      ],
      "text/plain": [
       "  buying  maint doors persons lug_boot safety carclass\n",
       "0  vhigh  vhigh     2       2    small    low    unacc\n",
       "1  vhigh  vhigh     2       2    small    med    unacc\n",
       "2  vhigh  vhigh     2       2    small   high    unacc\n",
       "3  vhigh  vhigh     2       2      med    low    unacc\n",
       "4  vhigh  vhigh     2       2      med    med    unacc"
      ]
     },
     "execution_count": 3,
     "metadata": {},
     "output_type": "execute_result"
    }
   ],
   "source": [
    "df.head()"
   ]
  },
  {
   "cell_type": "code",
   "execution_count": 4,
   "metadata": {},
   "outputs": [
    {
     "data": {
      "text/plain": [
       "array(['vhigh', 'high', 'med', 'low'], dtype=object)"
      ]
     },
     "execution_count": 4,
     "metadata": {},
     "output_type": "execute_result"
    }
   ],
   "source": [
    "df['buying'].unique()"
   ]
  },
  {
   "cell_type": "code",
   "execution_count": 5,
   "metadata": {},
   "outputs": [
    {
     "data": {
      "text/plain": [
       "array(['vhigh', 'high', 'med', 'low'], dtype=object)"
      ]
     },
     "execution_count": 5,
     "metadata": {},
     "output_type": "execute_result"
    }
   ],
   "source": [
    "df['maint'].unique()"
   ]
  },
  {
   "cell_type": "code",
   "execution_count": 6,
   "metadata": {},
   "outputs": [
    {
     "data": {
      "text/plain": [
       "array(['2', '3', '4', '5more'], dtype=object)"
      ]
     },
     "execution_count": 6,
     "metadata": {},
     "output_type": "execute_result"
    }
   ],
   "source": [
    "df['doors'].unique()"
   ]
  },
  {
   "cell_type": "code",
   "execution_count": 7,
   "metadata": {},
   "outputs": [
    {
     "data": {
      "text/plain": [
       "array(['2', '4', 'more'], dtype=object)"
      ]
     },
     "execution_count": 7,
     "metadata": {},
     "output_type": "execute_result"
    }
   ],
   "source": [
    "df['persons'].unique()"
   ]
  },
  {
   "cell_type": "code",
   "execution_count": 8,
   "metadata": {},
   "outputs": [
    {
     "data": {
      "text/plain": [
       "array(['small', 'med', 'big'], dtype=object)"
      ]
     },
     "execution_count": 8,
     "metadata": {},
     "output_type": "execute_result"
    }
   ],
   "source": [
    "df['lug_boot'].unique()"
   ]
  },
  {
   "cell_type": "code",
   "execution_count": 9,
   "metadata": {},
   "outputs": [
    {
     "data": {
      "text/plain": [
       "array(['low', 'med', 'high'], dtype=object)"
      ]
     },
     "execution_count": 9,
     "metadata": {},
     "output_type": "execute_result"
    }
   ],
   "source": [
    "df['safety'].unique()"
   ]
  },
  {
   "cell_type": "code",
   "execution_count": 10,
   "metadata": {},
   "outputs": [
    {
     "data": {
      "text/plain": [
       "array(['unacc', 'acc', 'vgood', 'good'], dtype=object)"
      ]
     },
     "execution_count": 10,
     "metadata": {},
     "output_type": "execute_result"
    }
   ],
   "source": [
    "df['carclass'].unique()"
   ]
  },
  {
   "cell_type": "code",
   "execution_count": 11,
   "metadata": {},
   "outputs": [],
   "source": [
    "buy = {'vhigh':0, 'high':1, 'med':2, 'low':3}\n",
    "df['buying'] = df['buying'].map(lambda x: buy[x])"
   ]
  },
  {
   "cell_type": "code",
   "execution_count": 12,
   "metadata": {},
   "outputs": [],
   "source": [
    "m = {'vhigh':0, 'high':1, 'med':2, 'low':3}\n",
    "df['maint'] = df['maint'].map(lambda x: m[x])"
   ]
  },
  {
   "cell_type": "code",
   "execution_count": 13,
   "metadata": {},
   "outputs": [],
   "source": [
    "d={'2':0, '3':1, '4':2, '5more':3}\n",
    "df['doors']=df['doors'].map(lambda x: d[x])"
   ]
  },
  {
   "cell_type": "code",
   "execution_count": 14,
   "metadata": {},
   "outputs": [],
   "source": [
    "p={'2':0, '4':1, 'more':2}\n",
    "df['persons']=df['persons'].map(lambda x: p[x])"
   ]
  },
  {
   "cell_type": "code",
   "execution_count": 15,
   "metadata": {},
   "outputs": [],
   "source": [
    "lb={'small':0, 'med':1, 'big':2}\n",
    "df['lug_boot']=df['lug_boot'].map(lambda x: lb[x])"
   ]
  },
  {
   "cell_type": "code",
   "execution_count": 16,
   "metadata": {},
   "outputs": [],
   "source": [
    "sf={'low':0, 'med':1, 'high':2}\n",
    "df['safety']=df['safety'].map(lambda x: sf[x])"
   ]
  },
  {
   "cell_type": "code",
   "execution_count": 17,
   "metadata": {},
   "outputs": [],
   "source": [
    "crcl={'unacc':0, 'acc':1, 'vgood':2, 'good':3}\n",
    "df['carclass']=df['carclass'].map(lambda x: crcl[x])"
   ]
  },
  {
   "cell_type": "code",
   "execution_count": 18,
   "metadata": {},
   "outputs": [
    {
     "name": "stdout",
     "output_type": "stream",
     "text": [
      "Predicted: [0 0 0 0 0 1 0 1 0 0 0 0 3 0 1 0 0 3 0 1 0 0 0 2 0 0 0 0 3 0 0 0 1 0 0 0 2\n",
      " 0 0 0 1 1 1 1 0 0 0 0 0 1 0 0 0 0 0 0 0 0 0 0 0 0 0 0 0 0 0 1 2 1 0 3 1 0\n",
      " 0 0 1 1 0 0 0 1 0 0 0 1 0 0 0 0 0 1 0 0 0 0 0 0 0 0 0 0 0 0 0 0 1 0 0 0 0\n",
      " 1 1 0 0 0 1 3 0 1 1 0 2 0 1 0 0 0 1 1 0 0 0 0 1 1 1 0 0 0 0 0 0 2 1 0 0 0\n",
      " 1 1 1 0 0 0 0 0 0 0 0 1 0 0 0 0 1 1 0 0 0 0 0 0 0 0 0 0 0 0 0 0 0 0 0 0 0\n",
      " 0 0 0 0 0 0 0 0 0 0 1 0 2 1 1 1 0 0 0 0 0 0 1 0 0 0 1 0 0 1 0 0 0 0 1 0 0\n",
      " 1 0 0 0 1 2 0 0 0 0 0 0 0 0 0 0 0 1 0 1 0 0 0 0 0 0 0 0 0 1 0 3 0 2 0 0 0\n",
      " 0 2 0 0 2 0 0 0 0 0 2 0 0 1 0 0 0 2 0 0 0 0 0 0 0 1 0 0 0 0 0 1 1 0 0 0 1\n",
      " 0 0 0 0 0 0 0 1 1 0 0 0 1 1 0 0 0 0 0 0 1 1 1 0 1 0 0 0 1 1 0 0 0 0 1 0 0\n",
      " 0 1 0 0 3 1 0 0 0 1 0 0 0 0 1 1 0 0 0 3 0 1 0 1 0 0 1 1 0 0 0 2 0 0 1 2 0\n",
      " 0 0 0 3 0 0 1 0 0 0 0 0 1 0 0 0 0 0 0 1 0 0 0 0 0 0 1 0 1 0 0 1 0 0 0 0 0\n",
      " 1 0 0 0 0 0 0 0 1 0 0 0 0 0 0 1 0 1 0 0 0 0 0 0 0 1 1 0 0 1 0 0 0 0 0 0 0\n",
      " 0 0 0 0 1 0 0 0 0 0 0 0 1 0 0 1 0 0 0 0 1 1 1 0 0 0 0 0 0 0 1 0 0 1 0 1 0\n",
      " 2 2 0 0 2 1 2 0 0 0 0 2 0 1 0 0 0 0 0 0 0 0 0 0 0 1 0 0 0 0 0 0 0 0 0 0 1\n",
      " 1]\n",
      "Actual: 704     0\n",
      "127     0\n",
      "603     0\n",
      "621     0\n",
      "948     0\n",
      "       ..\n",
      "1083    0\n",
      "517     0\n",
      "1389    0\n",
      "1067    1\n",
      "1370    1\n",
      "Name: carclass, Length: 519, dtype: int64\n"
     ]
    }
   ],
   "source": [
    "from sklearn import neighbors\n",
    "classifier_knc= neighbors.KNeighborsClassifier()\n",
    "\n",
    "# Seperate independe\n",
    "x=df.iloc[:,:6]\n",
    "y=df.iloc[:,6]\n",
    "\n",
    "from sklearn import model_selection\n",
    "from sklearn.model_selection import train_test_split\n",
    "\n",
    "test_size=0.3\n",
    "seed=7\n",
    "x_train, x_test, y_train, y_test=model_selection.train_test_split(x,y,test_size=test_size,random_state=seed)\n",
    "classifier_knc.fit(x_train,y_train)\n",
    "predicted=classifier_knc.predict(x_test)\n",
    "print(\"Predicted:\",predicted)\n",
    "print(\"Actual:\",y_test)"
   ]
  },
  {
   "cell_type": "markdown",
   "metadata": {},
   "source": [
    "## Test Accuracy"
   ]
  },
  {
   "cell_type": "code",
   "execution_count": 19,
   "metadata": {},
   "outputs": [
    {
     "name": "stdout",
     "output_type": "stream",
     "text": [
      "0.9171483622350675\n"
     ]
    }
   ],
   "source": [
    "# Test Classification accuracy\n",
    "from sklearn.metrics import accuracy_score\n",
    "a_socre=accuracy_score(y_test,predicted)\n",
    "print(a_socre)"
   ]
  },
  {
   "cell_type": "markdown",
   "metadata": {},
   "source": [
    "## Confusion Matrix"
   ]
  },
  {
   "cell_type": "code",
   "execution_count": 20,
   "metadata": {},
   "outputs": [
    {
     "name": "stdout",
     "output_type": "stream",
     "text": [
      "[[362   1   0   0]\n",
      " [ 23  89   0   0]\n",
      " [  1   6  18   2]\n",
      " [  2   7   1   7]]\n"
     ]
    }
   ],
   "source": [
    "# Confusion Matrix\n",
    "from sklearn.metrics import confusion_matrix\n",
    "matrix=confusion_matrix(y_test, predicted)\n",
    "print(matrix)"
   ]
  },
  {
   "cell_type": "markdown",
   "metadata": {},
   "source": [
    "## Class Report"
   ]
  },
  {
   "cell_type": "code",
   "execution_count": 21,
   "metadata": {},
   "outputs": [
    {
     "name": "stdout",
     "output_type": "stream",
     "text": [
      "              precision    recall  f1-score   support\n",
      "\n",
      "           0       0.93      1.00      0.96       363\n",
      "           1       0.86      0.79      0.83       112\n",
      "           2       0.95      0.67      0.78        27\n",
      "           3       0.78      0.41      0.54        17\n",
      "\n",
      "    accuracy                           0.92       519\n",
      "   macro avg       0.88      0.72      0.78       519\n",
      "weighted avg       0.91      0.92      0.91       519\n",
      "\n"
     ]
    }
   ],
   "source": [
    "from sklearn.metrics import classification_report\n",
    "class_report=classification_report(y_test,predicted)\n",
    "print(class_report)"
   ]
  }
 ],
 "metadata": {
  "kernelspec": {
   "display_name": "Python 3",
   "language": "python",
   "name": "python3"
  },
  "language_info": {
   "codemirror_mode": {
    "name": "ipython",
    "version": 3
   },
   "file_extension": ".py",
   "mimetype": "text/x-python",
   "name": "python",
   "nbconvert_exporter": "python",
   "pygments_lexer": "ipython3",
   "version": "3.8.3"
  }
 },
 "nbformat": 4,
 "nbformat_minor": 4
}
